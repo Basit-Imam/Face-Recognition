{
 "cells": [
  {
   "cell_type": "code",
   "execution_count": 2,
   "metadata": {
    "colab": {
     "base_uri": "https://localhost:8080/",
     "height": 139
    },
    "colab_type": "code",
    "id": "ldCcy50B3Is4",
    "outputId": "89dd0d56-912e-4bbb-e07d-82af004db03d"
   },
   "outputs": [
    {
     "name": "stdout",
     "output_type": "stream",
     "text": [
      "Requirement already satisfied: face_recognition in /usr/local/lib/python3.6/dist-packages (1.3.0)\n",
      "Requirement already satisfied: face-recognition-models>=0.3.0 in /usr/local/lib/python3.6/dist-packages (from face_recognition) (0.3.0)\n",
      "Requirement already satisfied: numpy in /usr/local/lib/python3.6/dist-packages (from face_recognition) (1.18.5)\n",
      "Requirement already satisfied: Click>=6.0 in /usr/local/lib/python3.6/dist-packages (from face_recognition) (7.1.2)\n",
      "Requirement already satisfied: Pillow in /usr/local/lib/python3.6/dist-packages (from face_recognition) (7.0.0)\n",
      "Requirement already satisfied: dlib>=19.7 in /usr/local/lib/python3.6/dist-packages (from face_recognition) (19.18.0)\n"
     ]
    }
   ],
   "source": [
    "!pip install face_recognition\n",
    "import face_recognition\n",
    "from pathlib import Path\n",
    "from PIL import Image"
   ]
  },
  {
   "cell_type": "code",
   "execution_count": 3,
   "metadata": {
    "colab": {},
    "colab_type": "code",
    "id": "C2yINBnI3djo"
   },
   "outputs": [],
   "source": [
    "from google.colab import drive"
   ]
  },
  {
   "cell_type": "code",
   "execution_count": 4,
   "metadata": {
    "colab": {
     "base_uri": "https://localhost:8080/",
     "height": 34
    },
    "colab_type": "code",
    "id": "FJblgM8K7s-m",
    "outputId": "75961661-27c6-4704-8e92-948f3a6a4a60"
   },
   "outputs": [
    {
     "name": "stdout",
     "output_type": "stream",
     "text": [
      "Mounted at /content/gdrive\n"
     ]
    }
   ],
   "source": [
    "drive.mount('/content/gdrive')"
   ]
  },
  {
   "cell_type": "code",
   "execution_count": 5,
   "metadata": {
    "colab": {},
    "colab_type": "code",
    "id": "YOA7kwOk8blx"
   },
   "outputs": [],
   "source": [
    "#load the known image\n",
    "known_image = face_recognition.load_image_file(\"image.jpg\")"
   ]
  },
  {
   "cell_type": "code",
   "execution_count": 6,
   "metadata": {
    "colab": {
     "base_uri": "https://localhost:8080/",
     "height": 561
    },
    "colab_type": "code",
    "id": "VWHLWxcY8qRd",
    "outputId": "9795bc23-9ff3-436c-c44f-2019d35ea739"
   },
   "outputs": [
    {
     "name": "stdout",
     "output_type": "stream",
     "text": [
      "[-9.26834643e-02 -2.72170939e-02  1.28191672e-02 -9.27060843e-02\n",
      " -9.86694247e-02  9.68351960e-05 -7.38862082e-02 -4.82446626e-02\n",
      "  1.65988833e-01 -1.73448384e-01  1.97242871e-01 -3.50635536e-02\n",
      " -2.16171518e-01 -3.32526527e-02 -8.85815993e-02  8.71803239e-02\n",
      " -1.87796026e-01 -1.37943506e-01  4.34465073e-02 -1.04695939e-01\n",
      "  6.77662492e-02  3.63606699e-02 -4.91218939e-02  5.02130166e-02\n",
      " -2.01715201e-01 -3.23465854e-01 -1.02090597e-01 -1.57729924e-01\n",
      " -5.32415472e-02 -1.07358992e-01  2.76800469e-02  1.10810526e-01\n",
      " -1.81350186e-01  2.02117264e-02  9.79712978e-03  5.65555617e-02\n",
      "  5.07642813e-02  7.24612251e-02  1.68745831e-01  2.82073840e-02\n",
      " -1.06490269e-01 -1.74913146e-02  5.12110703e-02  2.45227650e-01\n",
      "  1.31334439e-01  1.00909710e-01  4.65077907e-03 -2.49871630e-02\n",
      "  1.38865843e-01 -2.13629201e-01  5.36845475e-02  1.08184449e-01\n",
      "  5.05131520e-02  6.60933629e-02  9.21716765e-02 -2.17967272e-01\n",
      " -3.98501381e-03  8.43124837e-02 -1.19936086e-01  1.56598777e-01\n",
      " -2.80429590e-02 -6.04840368e-02  3.31167430e-02  4.28401232e-02\n",
      "  2.82407105e-01  5.11613823e-02 -7.74641931e-02 -1.70260027e-01\n",
      "  2.44084135e-01 -1.78848684e-01 -6.61351010e-02  1.09152481e-01\n",
      " -1.16998196e-01 -1.35778084e-01 -2.33822495e-01  2.25870591e-02\n",
      "  3.68495733e-01  1.13216795e-01 -1.49405554e-01  5.50489537e-02\n",
      " -5.08106314e-02 -4.08493765e-02  1.09485731e-01  2.47195847e-02\n",
      " -4.67606634e-02  2.23170742e-02 -9.34099182e-02  1.14084184e-02\n",
      "  2.69445568e-01  4.99580428e-02 -6.89331144e-02  2.16930121e-01\n",
      " -4.26843204e-02  8.85469243e-02  9.10047665e-02 -6.41705841e-03\n",
      " -9.93808508e-02 -2.44649239e-02 -1.25994980e-01 -1.68581158e-02\n",
      "  5.10211987e-03 -7.96754658e-02 -3.95470485e-02  1.45175844e-01\n",
      " -1.34991407e-01  1.16431408e-01 -9.42663476e-02 -2.33699195e-02\n",
      " -1.54333845e-01  1.21353887e-01 -1.43147886e-01  1.53666101e-02\n",
      "  1.61511526e-01 -2.75346398e-01  2.34980613e-01  1.33961424e-01\n",
      "  7.69928023e-02  1.49418995e-01  3.95961702e-02  2.08517350e-03\n",
      " -1.32403597e-02 -4.52369079e-02 -1.70912653e-01 -8.99988860e-02\n",
      "  2.81324349e-02 -6.45397380e-02  7.60403574e-02  3.20159942e-02]\n"
     ]
    }
   ],
   "source": [
    "#encode the known image\n",
    "known_image_encoding = face_recognition.face_encodings(known_image)\n",
    "print(known_image_encoding[0])"
   ]
  },
  {
   "cell_type": "code",
   "execution_count": 7,
   "metadata": {
    "colab": {},
    "colab_type": "code",
    "id": "tmmJ6I9a85wb"
   },
   "outputs": [],
   "source": [
    "#variable to keep track of the most similar face match we have found\n",
    "best_face_distance = 1.0\n",
    "best_face_image = None "
   ]
  },
  {
   "cell_type": "code",
   "execution_count": null,
   "metadata": {
    "colab": {},
    "colab_type": "code",
    "id": "gWSv8iwcEyhw"
   },
   "outputs": [],
   "source": [
    "import numpy as np\n",
    "#loop over all the images we want to check for similar people\n",
    "for image_path in Path(\"/content/gdrive/My Drive/Singles\").glob(\"*.JPG\"):\n",
    "  #load the image to check\n",
    "  unknown_image = face_recognition.load_image_file(image_path)\n",
    "\n",
    "  #get the location of faces & face encodind of the current image\n",
    "  face_encodings = face_recognition.face_encodings(unknown_image)\n",
    "  #print(face_encodings)\n",
    "  #get the face distance between the known person and all the faces in this image\n",
    "    face_distance = face_recognition.face_distance(np.array(face_encodings), np.array(known_image_encoding))[0]\n",
    "    print(\"Face distance is :\"+ str(face_distance))\n",
    "    #If this face is more similar to our known image then we have seen so far, save it\n",
    "    if face_distance < best_face_distance:\n",
    "    #save the new best face distance\n",
    "    best_face_distance = face_distance\n",
    "    print(\"Best face distance is:\"+str(best_face_distance))\n",
    "    #extract a copy of the actual face image itself so we can disply it \n",
    "    best_face_image = unknown_image\n",
    "\n",
    "#display the face image that we found to be the best match\n",
    "pil_image = Image.fromarray(best_face_image)\n",
    "#pil_image"
   ]
  }
 ],
 "metadata": {
  "accelerator": "GPU",
  "colab": {
   "collapsed_sections": [],
   "name": "FaceSimilarity.ipynb",
   "provenance": []
  },
  "kernelspec": {
   "display_name": "Python 3",
   "language": "python",
   "name": "python3"
  },
  "language_info": {
   "codemirror_mode": {
    "name": "ipython",
    "version": 3
   },
   "file_extension": ".py",
   "mimetype": "text/x-python",
   "name": "python",
   "nbconvert_exporter": "python",
   "pygments_lexer": "ipython3",
   "version": "3.7.5"
  }
 },
 "nbformat": 4,
 "nbformat_minor": 1
}
