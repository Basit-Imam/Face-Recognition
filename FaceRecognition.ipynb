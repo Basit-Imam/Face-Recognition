{
  "nbformat": 4,
  "nbformat_minor": 0,
  "metadata": {
    "colab": {
      "name": "FaceRecognition.ipynb",
      "provenance": []
    },
    "kernelspec": {
      "name": "python3",
      "display_name": "Python 3"
    },
    "accelerator": "GPU"
  },
  "cells": [
    {
      "cell_type": "code",
      "metadata": {
        "id": "Z6D7HQIl07Bu",
        "colab_type": "code",
        "colab": {
          "base_uri": "https://localhost:8080/",
          "height": 309
        },
        "outputId": "2ea6e03e-0a85-42ba-85bc-7ade5d2b5979"
      },
      "source": [
        "!pip install face_recognition\n",
        "import face_recognition"
      ],
      "execution_count": 1,
      "outputs": [
        {
          "output_type": "stream",
          "text": [
            "Collecting face_recognition\n",
            "  Downloading https://files.pythonhosted.org/packages/1e/95/f6c9330f54ab07bfa032bf3715c12455a381083125d8880c43cbe76bb3d0/face_recognition-1.3.0-py2.py3-none-any.whl\n",
            "Requirement already satisfied: numpy in /usr/local/lib/python3.6/dist-packages (from face_recognition) (1.18.5)\n",
            "Requirement already satisfied: Pillow in /usr/local/lib/python3.6/dist-packages (from face_recognition) (7.0.0)\n",
            "Requirement already satisfied: dlib>=19.7 in /usr/local/lib/python3.6/dist-packages (from face_recognition) (19.18.0)\n",
            "Collecting face-recognition-models>=0.3.0\n",
            "\u001b[?25l  Downloading https://files.pythonhosted.org/packages/cf/3b/4fd8c534f6c0d1b80ce0973d01331525538045084c73c153ee6df20224cf/face_recognition_models-0.3.0.tar.gz (100.1MB)\n",
            "\u001b[K     |████████████████████████████████| 100.2MB 42kB/s \n",
            "\u001b[?25hRequirement already satisfied: Click>=6.0 in /usr/local/lib/python3.6/dist-packages (from face_recognition) (7.1.2)\n",
            "Building wheels for collected packages: face-recognition-models\n",
            "  Building wheel for face-recognition-models (setup.py) ... \u001b[?25l\u001b[?25hdone\n",
            "  Created wheel for face-recognition-models: filename=face_recognition_models-0.3.0-py2.py3-none-any.whl size=100566172 sha256=f85aff62fa52a3adce6b7a80c530ad4294e236f44ae7bf5b81a7f4d6c7b5d808\n",
            "  Stored in directory: /root/.cache/pip/wheels/d2/99/18/59c6c8f01e39810415c0e63f5bede7d83dfb0ffc039865465f\n",
            "Successfully built face-recognition-models\n",
            "Installing collected packages: face-recognition-models, face-recognition\n",
            "Successfully installed face-recognition-1.3.0 face-recognition-models-0.3.0\n"
          ],
          "name": "stdout"
        }
      ]
    },
    {
      "cell_type": "code",
      "metadata": {
        "id": "3Nz28x341Dvn",
        "colab_type": "code",
        "colab": {}
      },
      "source": [
        "#load the known images\n",
        "person1 = face_recognition.load_image_file(\"img1.jpg\")\n",
        "person2 = face_recognition.load_image_file(\"img2.jpg\")\n",
        "person3 = face_recognition.load_image_file(\"img3.jpg\")"
      ],
      "execution_count": 10,
      "outputs": []
    },
    {
      "cell_type": "code",
      "metadata": {
        "id": "DcMWVGpN4kSX",
        "colab_type": "code",
        "colab": {}
      },
      "source": [
        "#get the face encodings of all known faces\n",
        "p1_face_encoding = face_recognition.face_encodings(person1)[0]\n",
        "p2_face_encoding = face_recognition.face_encodings(person2)[0]\n",
        "p3_face_encoding = face_recognition.face_encodings(person3)[0]"
      ],
      "execution_count": 11,
      "outputs": []
    },
    {
      "cell_type": "code",
      "metadata": {
        "id": "1WN9bHdh44d0",
        "colab_type": "code",
        "colab": {}
      },
      "source": [
        "#create a list of all known face encodings \n",
        "known_face_encodings = [p1_face_encoding, p2_face_encoding, p3_face_encoding]"
      ],
      "execution_count": 12,
      "outputs": []
    },
    {
      "cell_type": "code",
      "metadata": {
        "id": "q0YB-jwt5MP6",
        "colab_type": "code",
        "colab": {}
      },
      "source": [
        "#load the image we want to check\n",
        "unknown_image = face_recognition.load_image_file(\"unknown3.jpg\")"
      ],
      "execution_count": 23,
      "outputs": []
    },
    {
      "cell_type": "code",
      "metadata": {
        "id": "8SIoErvt5b82",
        "colab_type": "code",
        "colab": {}
      },
      "source": [
        "#get the face encoding of any people in the picture\n",
        "unknown_face_encodings = face_recognition.face_encodings(unknown_image)"
      ],
      "execution_count": 24,
      "outputs": []
    },
    {
      "cell_type": "code",
      "metadata": {
        "id": "qBXFzyxB5pZq",
        "colab_type": "code",
        "colab": {
          "base_uri": "https://localhost:8080/",
          "height": 34
        },
        "outputId": "849ef3d3-59bf-4faf-8ff0-236117f78979"
      },
      "source": [
        "#checking all people in that picture\n",
        "for unknown_face_encoding in unknown_face_encodings:\n",
        "  #test if this unknown face encoding matches with any of the three people we know\n",
        "  results = face_recognition.compare_faces(known_face_encodings, unknown_face_encoding)\n",
        "\n",
        "  name = \"unknown\"\n",
        "  if results[0]:\n",
        "    name = \"Person1\"\n",
        "  elif results[1]:\n",
        "    name = \"Person2\"\n",
        "  elif results[2]:\n",
        "    name = \"Person3\"\n",
        "\n",
        "  print(f\"Found {name} in the photo!\")"
      ],
      "execution_count": 26,
      "outputs": [
        {
          "output_type": "stream",
          "text": [
            "Found Person3 in the photo!\n"
          ],
          "name": "stdout"
        }
      ]
    },
    {
      "cell_type": "code",
      "metadata": {
        "id": "sKj-DZe36uBO",
        "colab_type": "code",
        "colab": {}
      },
      "source": [
        ""
      ],
      "execution_count": null,
      "outputs": []
    }
  ]
}