{
  "nbformat": 4,
  "nbformat_minor": 0,
  "metadata": {
    "colab": {
      "name": "FaceEncodings.ipynb",
      "provenance": [],
      "authorship_tag": "ABX9TyM6kkl8vvfx27CbHdaqIFWx",
      "include_colab_link": true
    },
    "kernelspec": {
      "name": "python3",
      "display_name": "Python 3"
    },
    "accelerator": "GPU"
  },
  "cells": [
    {
      "cell_type": "markdown",
      "metadata": {
        "id": "view-in-github",
        "colab_type": "text"
      },
      "source": [
        "<a href=\"https://colab.research.google.com/github/Basit-Imam/Face-Recognition/blob/master/FaceEncodings.ipynb\" target=\"_parent\"><img src=\"https://colab.research.google.com/assets/colab-badge.svg\" alt=\"Open In Colab\"/></a>"
      ]
    },
    {
      "cell_type": "code",
      "metadata": {
        "id": "YrDq8OApw7Cf",
        "colab_type": "code",
        "colab": {
          "base_uri": "https://localhost:8080/",
          "height": 309
        },
        "outputId": "a84ff398-0472-4cef-e27c-111f1ee8f9b4"
      },
      "source": [
        "! pip install face_recognition"
      ],
      "execution_count": 2,
      "outputs": [
        {
          "output_type": "stream",
          "text": [
            "Collecting face_recognition\n",
            "  Downloading https://files.pythonhosted.org/packages/1e/95/f6c9330f54ab07bfa032bf3715c12455a381083125d8880c43cbe76bb3d0/face_recognition-1.3.0-py2.py3-none-any.whl\n",
            "Requirement already satisfied: Click>=6.0 in /usr/local/lib/python3.6/dist-packages (from face_recognition) (7.1.2)\n",
            "Requirement already satisfied: Pillow in /usr/local/lib/python3.6/dist-packages (from face_recognition) (7.0.0)\n",
            "Requirement already satisfied: dlib>=19.7 in /usr/local/lib/python3.6/dist-packages (from face_recognition) (19.18.0)\n",
            "Requirement already satisfied: numpy in /usr/local/lib/python3.6/dist-packages (from face_recognition) (1.18.5)\n",
            "Collecting face-recognition-models>=0.3.0\n",
            "\u001b[?25l  Downloading https://files.pythonhosted.org/packages/cf/3b/4fd8c534f6c0d1b80ce0973d01331525538045084c73c153ee6df20224cf/face_recognition_models-0.3.0.tar.gz (100.1MB)\n",
            "\u001b[K     |████████████████████████████████| 100.2MB 42kB/s \n",
            "\u001b[?25hBuilding wheels for collected packages: face-recognition-models\n",
            "  Building wheel for face-recognition-models (setup.py) ... \u001b[?25l\u001b[?25hdone\n",
            "  Created wheel for face-recognition-models: filename=face_recognition_models-0.3.0-py2.py3-none-any.whl size=100566172 sha256=3bc51148288668c4dc0fb35c3734b4bdbeedc26ecf5a346b149feebab344732b\n",
            "  Stored in directory: /root/.cache/pip/wheels/d2/99/18/59c6c8f01e39810415c0e63f5bede7d83dfb0ffc039865465f\n",
            "Successfully built face-recognition-models\n",
            "Installing collected packages: face-recognition-models, face-recognition\n",
            "Successfully installed face-recognition-1.3.0 face-recognition-models-0.3.0\n"
          ],
          "name": "stdout"
        }
      ]
    },
    {
      "cell_type": "code",
      "metadata": {
        "id": "RpU_bKedxJuI",
        "colab_type": "code",
        "colab": {}
      },
      "source": [
        "import face_recognition"
      ],
      "execution_count": 3,
      "outputs": []
    },
    {
      "cell_type": "code",
      "metadata": {
        "id": "BDz1zJMBxRTM",
        "colab_type": "code",
        "colab": {}
      },
      "source": [
        "#load the image into numpy array\n",
        "image = face_recognition.load_image_file(\"image.jpg\")"
      ],
      "execution_count": 5,
      "outputs": []
    },
    {
      "cell_type": "code",
      "metadata": {
        "id": "7Ydc98uNygm7",
        "colab_type": "code",
        "colab": {}
      },
      "source": [
        "#generate the face encoding\n",
        "face_encodings = face_recognition.face_encodings(image)\n",
        "#represents 128 elements that represents that face uniquely"
      ],
      "execution_count": 12,
      "outputs": []
    },
    {
      "cell_type": "code",
      "metadata": {
        "id": "msPAwrLRy1a7",
        "colab_type": "code",
        "colab": {
          "base_uri": "https://localhost:8080/",
          "height": 391
        },
        "outputId": "a8fa3c35-e85c-4168-dd32-75359590bcc6"
      },
      "source": [
        "if len(face_encodings) == 0:\n",
        "  #no face found in the image\n",
        "  print(\"No faces were found\")\n",
        "else:\n",
        "  #grab the first face encoding\n",
        "  first_face_encoding = face_encodings[0]\n",
        "\n",
        "  #print the result\n",
        "  print(first_face_encoding)"
      ],
      "execution_count": 13,
      "outputs": [
        {
          "output_type": "stream",
          "text": [
            "[-0.0361566   0.0118792   0.0881038   0.00641789 -0.05708457 -0.07396579\n",
            " -0.06258861 -0.10085991  0.12478822 -0.11443129  0.27281466  0.01216317\n",
            " -0.22805212 -0.03843999 -0.03932073  0.11747468 -0.10335549 -0.10306499\n",
            " -0.11793201 -0.09951159 -0.06604531  0.04118621  0.1273472   0.03124164\n",
            " -0.21691948 -0.33229306 -0.14806096 -0.11046118  0.06079868 -0.08456804\n",
            " -0.06409197  0.0270135  -0.16050829 -0.10023633  0.0361104   0.07236741\n",
            " -0.0745497  -0.09510936  0.23772381  0.13564086 -0.14149559  0.0401406\n",
            "  0.02782244  0.32075328  0.20820285  0.05519637  0.10732192 -0.07055227\n",
            "  0.07290105 -0.25089401  0.10385113  0.08346543  0.08008261  0.05152463\n",
            "  0.18493396 -0.15986073  0.03935788  0.20143212 -0.12406981  0.10806911\n",
            "  0.03764536  0.0431468   0.09844144  0.00327416  0.23639986  0.05214347\n",
            " -0.10613997 -0.0669034   0.08997259 -0.16005614 -0.03738316  0.11249119\n",
            " -0.0840873  -0.1693102  -0.32960051  0.03245329  0.42337132  0.16592558\n",
            " -0.11991556  0.03538778 -0.06693309 -0.0965029   0.08484598  0.02980391\n",
            " -0.10727882  0.00318019 -0.12490904 -0.01938263  0.23256478  0.05905051\n",
            " -0.03887061  0.21801214 -0.05190719  0.01596612  0.07986938  0.04094375\n",
            " -0.23586965 -0.0145576  -0.07651007 -0.04545557  0.02005616 -0.09885158\n",
            "  0.00936274  0.06781915 -0.20460309  0.11665735 -0.07806697 -0.05693715\n",
            " -0.01915856  0.02427971 -0.15161933  0.01860727  0.16455926 -0.33040911\n",
            "  0.13783069  0.20307431  0.02097145  0.11488128  0.14523116 -0.01921589\n",
            " -0.0622493   0.04722774 -0.1240322  -0.08049141 -0.00876707 -0.08459992\n",
            "  0.13710834  0.03467755]\n"
          ],
          "name": "stdout"
        }
      ]
    },
    {
      "cell_type": "code",
      "metadata": {
        "id": "PXal3GG0zuwM",
        "colab_type": "code",
        "colab": {}
      },
      "source": [
        ""
      ],
      "execution_count": null,
      "outputs": []
    }
  ]
}